{
 "cells": [
  {
   "cell_type": "code",
   "execution_count": 70,
   "id": "2e2314b9-4994-45b4-b692-8eea9df8554f",
   "metadata": {},
   "outputs": [
    {
     "name": "stderr",
     "output_type": "stream",
     "text": [
      "YOLOv5  2024-4-11 Python-3.11.8 torch-2.2.2 CPU\n",
      "\n",
      "Fusing layers... \n",
      "YOLOv5s summary: 213 layers, 7225885 parameters, 0 gradients, 16.4 GFLOPs\n"
     ]
    }
   ],
   "source": [
    "import torch\n",
    "import cv2\n",
    "from models.experimental import attempt_load\n",
    "from utils.augmentations import letterbox\n",
    "from utils.general import check_img_size, non_max_suppression\n",
    "from utils.torch_utils import select_device, time_sync\n",
    "from utils.augmentations import letterbox\n",
    "\n",
    "# Загрузить модель\n",
    "device = select_device('')\n",
    "model = attempt_load('yolov5s.pt', device=device)\n",
    "\n",
    "# Загрузить изображение\n",
    "img = cv2.imread('image.jpg')\n",
    "\n",
    "# Копировать изображение для отображения\n",
    "img_display = img.copy()\n",
    "\n",
    "# Преобразовать изображение в формат, подходящий для модели\n",
    "img = letterbox(img0, new_shape=640, auto=True, color=(0, 0, 0))[0]\n",
    "img = img[:, :, ::-1].transpose(2, 0, 1) # BGR to RGB, to 3x416x416\n",
    "img = np.ascontiguousarray(img)\n",
    "img = torch.from_numpy(img).to(device)\n",
    "img = img.float()  # uint8 to fp16/32\n",
    "img /= 255.0  # 0 - 255 to 0.0 - 1.0\n",
    "img = img[None]  \n",
    "\n",
    "# Выполнить обнаружение объектов\n",
    "pred = model(img)[0]\n",
    "pred = non_max_suppression(pred, conf_thres=0.4, iou_thres=0.5)  # Изменить порог обнаружения на 0.2\n",
    "\n",
    "# Отобразить bounding box на изображении\n",
    "min_size = 32  # Минимальный размер bounding box\n",
    "for i, det in enumerate(pred):\n",
    "    if det is not None and len(det):\n",
    "        det[:, :4] = scale_boxes(img.shape[2:], det[:, :4], img_display.shape).round()\n",
    "        for *xyxy, conf, cls in reversed(det):\n",
    "            x1, y1, x2, y2 = map(int, xyxy)\n",
    "            width = x2 - x1\n",
    "            height = y2 - y1\n",
    "            size = width * height\n",
    "            min_size = min_size * min_size\n",
    "            if size >= min_size:  # Проверить размер bounding box\n",
    "                color = (0, 255, 0)  \n",
    "                cv2.rectangle(img_display, (x1, y1), (x2, y2), color, 2)\n",
    "            else:\n",
    "                color = (0, 0, 255)  \n",
    "                cv2.rectangle(img_display, (x1, y1), (x2, y2), color, 2)\n",
    "\n",
    "\n",
    "# Отобразить изображение\n",
    "cv2.imshow('Image', img_display)\n",
    "cv2.waitKey(0)\n",
    "cv2.destroyAllWindows()\n"
   ]
  },
  {
   "cell_type": "code",
   "execution_count": null,
   "id": "1e54564f-29ef-449c-ba6e-55d7c475ea26",
   "metadata": {},
   "outputs": [],
   "source": []
  },
  {
   "cell_type": "code",
   "execution_count": null,
   "id": "3714bc55-26a5-4f26-8e16-60607d6ec57e",
   "metadata": {},
   "outputs": [],
   "source": []
  }
 ],
 "metadata": {
  "kernelspec": {
   "display_name": "Python 3 (ipykernel)",
   "language": "python",
   "name": "python3"
  },
  "language_info": {
   "codemirror_mode": {
    "name": "ipython",
    "version": 3
   },
   "file_extension": ".py",
   "mimetype": "text/x-python",
   "name": "python",
   "nbconvert_exporter": "python",
   "pygments_lexer": "ipython3",
   "version": "3.11.8"
  }
 },
 "nbformat": 4,
 "nbformat_minor": 5
}
